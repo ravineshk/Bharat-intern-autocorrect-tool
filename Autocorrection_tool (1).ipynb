{
 "cells": [
  {
   "cell_type": "markdown",
   "metadata": {
    "id": "V-3T1dlUCkNv"
   },
   "source": [
    "## Bharat Intern"
   ]
  },
  {
   "cell_type": "markdown",
   "metadata": {
    "id": "um0WIPCICvmW"
   },
   "source": [
    "## Artificial Intelligence Intenship"
   ]
  },
  {
   "cell_type": "markdown",
   "metadata": {
    "id": "cJEoc7avC6b-"
   },
   "source": [
    "Task-2 : Auto correct tool"
   ]
  },
  {
   "cell_type": "markdown",
   "metadata": {
    "id": "ooQN3MvtDDnf"
   },
   "source": [
    "Name:Ravinesh Kumar"
   ]
  },
  {
   "cell_type": "code",
   "execution_count": null,
   "metadata": {},
   "outputs": [],
   "source": []
  },
  {
   "cell_type": "code",
   "execution_count": 1,
   "metadata": {
    "colab": {
     "base_uri": "https://localhost:8080/"
    },
    "id": "doyaPT1zDQ0k",
    "outputId": "14385f08-065b-4bff-d127-9ad386052ea5"
   },
   "outputs": [
    {
     "name": "stderr",
     "output_type": "stream",
     "text": [
      "Traceback (most recent call last):\n",
      "  File \"<frozen runpy>\", line 198, in _run_module_as_main\n",
      "  File \"<frozen runpy>\", line 88, in _run_code\n",
      "  File \"C:\\Users\\Ravi\\AppData\\Local\\Programs\\Python\\Python311\\Scripts\\pip.exe\\__main__.py\", line 4, in <module>\n",
      "ModuleNotFoundError: No module named 'pip'\n"
     ]
    }
   ],
   "source": [
    "!pip install pyspellchecker"
   ]
  },
  {
   "cell_type": "code",
   "execution_count": 2,
   "metadata": {
    "colab": {
     "base_uri": "https://localhost:8080/"
    },
    "id": "tCZV4AtFLNcv",
    "outputId": "858a4ea1-7a95-40de-ea01-042555afcf9a"
   },
   "outputs": [
    {
     "name": "stderr",
     "output_type": "stream",
     "text": [
      "Traceback (most recent call last):\n",
      "  File \"<frozen runpy>\", line 198, in _run_module_as_main\n",
      "  File \"<frozen runpy>\", line 88, in _run_code\n",
      "  File \"C:\\Users\\Ravi\\AppData\\Local\\Programs\\Python\\Python311\\Scripts\\pip.exe\\__main__.py\", line 4, in <module>\n",
      "ModuleNotFoundError: No module named 'pip'\n",
      "Traceback (most recent call last):\n",
      "  File \"<frozen runpy>\", line 198, in _run_module_as_main\n",
      "  File \"<frozen runpy>\", line 88, in _run_code\n",
      "  File \"C:\\Users\\Ravi\\AppData\\Local\\Programs\\Python\\Python311\\Scripts\\pip.exe\\__main__.py\", line 4, in <module>\n",
      "ModuleNotFoundError: No module named 'pip'\n",
      "Traceback (most recent call last):\n",
      "  File \"<frozen runpy>\", line 198, in _run_module_as_main\n",
      "  File \"<frozen runpy>\", line 88, in _run_code\n",
      "  File \"C:\\Users\\Ravi\\AppData\\Local\\Programs\\Python\\Python311\\Scripts\\pip.exe\\__main__.py\", line 4, in <module>\n",
      "ModuleNotFoundError: No module named 'pip'\n",
      "Traceback (most recent call last):\n",
      "  File \"<frozen runpy>\", line 198, in _run_module_as_main\n",
      "  File \"<frozen runpy>\", line 88, in _run_code\n",
      "  File \"C:\\Users\\Ravi\\AppData\\Local\\Programs\\Python\\Python311\\Scripts\\pip.exe\\__main__.py\", line 4, in <module>\n",
      "ModuleNotFoundError: No module named 'pip'\n"
     ]
    }
   ],
   "source": [
    "!pip install pattern\n",
    "!pip install autocorrect\n",
    "!pip install textblob\n",
    "!pip install textdistance"
   ]
  },
  {
   "cell_type": "code",
   "execution_count": 3,
   "metadata": {
    "colab": {
     "base_uri": "https://localhost:8080/"
    },
    "id": "9SECnbx_MCDd",
    "outputId": "1e857e3c-bd74-46d8-d922-2ede1e2e39bb"
   },
   "outputs": [
    {
     "name": "stdin",
     "output_type": "stream",
     "text": [
      "enter the word outo\n"
     ]
    },
    {
     "name": "stdout",
     "output_type": "stream",
     "text": [
      "The corrected word for 'outo' is 'out' is:\n",
      "The suggested words are {'outs', 'onto', 'orto', 'outa', 'outon', 'outof', 'ouzo', 'outto', 'out', 'outl', 'youto', 'outdo', 'otto', 'oto', 'puto', 'auto'}:\n"
     ]
    }
   ],
   "source": [
    "from spellchecker import SpellChecker\n",
    "spell = SpellChecker()\n",
    "misspell_word = input(\"enter the word\")\n",
    "correct_word = spell.correction(misspell_word)\n",
    "print(f\"The corrected word for '{misspell_word}' is '{correct_word}' is:\")\n",
    "misspell_word = \"outo\"\n",
    "suggestions = spell.candidates(misspell_word)\n",
    "print(f\"The suggested words are {suggestions}:\")"
   ]
  },
  {
   "cell_type": "code",
   "execution_count": null,
   "metadata": {},
   "outputs": [],
   "source": []
  },
  {
   "cell_type": "code",
   "execution_count": null,
   "metadata": {},
   "outputs": [],
   "source": []
  }
 ],
 "metadata": {
  "colab": {
   "provenance": []
  },
  "kernelspec": {
   "display_name": "Python 3 (ipykernel)",
   "language": "python",
   "name": "python3"
  },
  "language_info": {
   "codemirror_mode": {
    "name": "ipython",
    "version": 3
   },
   "file_extension": ".py",
   "mimetype": "text/x-python",
   "name": "python",
   "nbconvert_exporter": "python",
   "pygments_lexer": "ipython3",
   "version": "3.11.4"
  }
 },
 "nbformat": 4,
 "nbformat_minor": 4
}
